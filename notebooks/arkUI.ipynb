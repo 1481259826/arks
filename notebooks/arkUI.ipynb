{
 "cells": [
  {
   "cell_type": "code",
   "execution_count": 28,
   "id": "609df2a6",
   "metadata": {},
   "outputs": [
    {
     "data": {
      "text/plain": [
       "True"
      ]
     },
     "execution_count": 28,
     "metadata": {},
     "output_type": "execute_result"
    }
   ],
   "source": [
    "# 导入环境变量\n",
    "from dotenv import load_dotenv\n",
    "load_dotenv()"
   ]
  },
  {
   "cell_type": "code",
   "execution_count": 37,
   "id": "61c6118a",
   "metadata": {},
   "outputs": [
    {
     "name": "stdout",
     "output_type": "stream",
     "text": [
      "Loading.....\n",
      "Loadded....\n"
     ]
    }
   ],
   "source": [
    "import os\n",
    "from langchain import hub\n",
    "from langchain_community.document_loaders import WebBaseLoader\n",
    "from langchain_community.vectorstores import Chroma\n",
    "from langchain_core.output_parsers import StrOutputParser\n",
    "from langchain_core.runnables import RunnablePassthrough\n",
    "from langchain_openai import ChatOpenAI, OpenAIEmbeddings\n",
    "from langchain_text_splitters import RecursiveCharacterTextSplitter\n",
    "from langchain_community.document_loaders import PyPDFLoader\n",
    "\n",
    "print(\"Loading.....\")\n",
    "loader = PyPDFLoader(\"arkUI自定义组件生命周期.pdf\")\n",
    "docs = loader.load()\n",
    "print(\"Loadded....\")\n",
    "\n",
    "text_splitter = RecursiveCharacterTextSplitter(chunk_size=1000, chunk_overlap=200)\n",
    "splits = text_splitter.split_documents(docs)\n",
    "vectorstore = Chroma.from_documents(documents=splits, embedding=OpenAIEmbeddings(),persist_directory=\"./vector_store\")\n"
   ]
  },
  {
   "cell_type": "code",
   "execution_count": 38,
   "id": "342e6a2c",
   "metadata": {},
   "outputs": [
    {
     "name": "stdout",
     "output_type": "stream",
     "text": [
      "您当前正在 浏 览 HarmonyOS 最 新 文 档 ， 覆 盖 已 发 布 的 所 有API 版本 ， 可在 API 参考 中筛 选 您 使 用 的API 版本。 详 细 的 版本 配 套 关系请 参考版本说明。筛 选目 录下 的 文 档 标 题\n",
      "入门\n",
      "开发\n",
      "工 具\n",
      "测试\n",
      "基 础 入门\n",
      "应 用开发 准 备\n",
      "应 用 框 架\n",
      "Ability  Kit （ 程 序 框 架 服务）\n",
      "Accessibility  Kit  ( 无 障 碍 服务 )\n",
      "ArkData （方 舟 数 据 管 理）\n",
      "ArkTS （方 舟 编程 语 言 ）\n",
      "ArkUI （方 舟 UI 框 架 ）\n",
      "ArkUI 简介\n",
      "UI 开发  (ArkTS 声 明式开发 范 式 )\n",
      "UI 开发（ ArkTS 声 明式开发 范 式） 概 述\n",
      "学 习 UI 范 式 基 本 语 法\n",
      "基 本 语 法 概 述\n",
      "声 明式 UI 描述\n",
      "自定 义 组 件\n",
      "创建 自定 义 组 件\n",
      "自定 义 组 件 生 命 周 期\n",
      "自定 义 组 件 的 自定 义 布 局\n",
      "自定 义 组 件 成 员 属 性 访 问 限 定 符 使\n",
      "用 限 制\n",
      "组 件 扩 展\n",
      "@ Styles 装 饰 器 ： 定 义 组 件重 用 样 式\n",
      "@ Extend 装 饰 器 ： 定 义 扩 展 组 件样 式\n",
      "stateStyles： 多 态样 式\n",
      "@ AnimatableExtend 装 饰 器 ： 定 义\n",
      "可动 画属 性\n",
      "@ Require 装 饰 器 ： 校 验构造 传 参\n",
      "@ Reusable 装 饰 器 ： 组 件复 用\n",
      "学 习 UI 范 式 状 态管 理\n",
      "学 习 UI 范 式 渲 染 控 制\n",
      "设置 组 件导 航 和页面 路由\n",
      "组 件布 局\n",
      "列 表与 网 格\n",
      "使 用文本\n",
      "媒 体 展示\n",
      "表 单选 择\n",
      "添 加 组 件\n",
      "使 用 弹窗\n",
      "几 何 图 形 绘 制\n",
      "添 加 交 互 响 应\n",
      "使 用动 画\n",
      "使 用自定 义 能力\n",
      "UI 国 际 化\n",
      "无 障 碍 与 适 老 化\n",
      "主题 设置\n",
      "UI 系 统场 景 化能力\n",
      "UI 开发  ( 基 于 N DK 构 建 UI)\n",
      "UI 开发  ( 兼 容 JS的 类 Web 开发 范 式 )\n",
      "UI 开发 调试调优\n",
      "窗 口管 理\n",
      "屏 幕 管 理\n",
      "ArkWeb （方 舟 Web ）\n",
      "Background  Tasks  Kit （后 台任 务开发服\n",
      "务）\n",
      "Core  File  Kit （文 件 基 础 服务）\n",
      "Data  Augmentation  Kit （数 据 增 强 服务）\n",
      "Form  Kit （ 卡 片开发服务）\n",
      "IME  Kit （ 输 入法开发服务）\n",
      "IPC  Kit （进 程 间通信服务）\n",
      "Localization  Kit （本地化开发服务）\n",
      "UI  Design  Kit （ UI 设计 套 件 ）\n",
      "系 统\n",
      "媒 体\n",
      "图 形\n",
      "应 用服务\n",
      "A I \n",
      "一 次开发 ， 多 端 部 署\n",
      "自 由流转\n",
      "N D K 开发\n",
      "开发 环 境 搭 建\n",
      "使 用 A I 辅 助编程\n",
      "编 写 与 调试 应 用\n",
      "构 建应 用\n",
      "优 化 应 用性能\n",
      "发 布应 用\n",
      "命 令 行工 具\n",
      "应 用 测试\n",
      "自定 义 组 件 生 命 周 期 ， 即 用@ Component或@ ComponentV2装 饰 的 自定 义 组 件 的 生 命 周 期 ， 提 供 以下生 命 周 期 接 口 ：\n",
      "aboutToAppear： 组 件即将 出现时回 调该 接 口 ， 具 体时机为在 创建 自定 义 组 件 的新 实 例 后 ， 在 执 行其 build 函 数之前 执 行 。\n",
      "onDidBuild： 在 组 件 首次 渲 染触 发 的build 函 数 执 行 完 成之后回 调该 接 口 ， 后 续 组 件重 新 渲 染 将 不回 调该 接 口 。 开发者可以在这\n",
      "个 阶 段 进行 埋 点 数 据 上报等不 影 响 实 际 UI的 功 能 。 不 建议 在 onDidBuild 函 数 中 更 改 状 态 变 量 、 使 用 animateTo 等 功 能 ， 这可能\n",
      "会 导 致 不 稳 定 的UI 表现 。\n",
      "aboutToDisappear：aboutToDisappear 函 数在自定 义 组 件 析 构销 毁 之前 执 行 。 不 允 许 在 aboutToDisappear 函 数 中 改变 状 态\n",
      "变 量 ， 特 别 是 @ Link 变 量 的 修改 可能会 导 致 应 用 程 序 行为不 稳 定 。\n",
      "自定 义 组 件 生 命 周 期流程 如下图所 示 。\n",
      "根 据 上面 的 流程 图 ， 接下来 从 自定 义 组 件 的 初 始 创建 、 重 新 渲 染 和 删 除 来 详 细 说明 。\n",
      "自定 义 组 件 的 创建 和 渲 染 流程\n",
      "1. 自定 义 组 件 的 创建 ： 自定 义 组 件 的 实 例 由 ArkUI 框 架 创建 。\n",
      "2. 初 始 化自定 义 组 件 的 成 员 变 量 ： 通过本地 默 认 值 或 者 构造 方法 传 递 参 数来 初 始 化自定 义 组 件 的 成 员 变 量 ， 初 始 化 顺 序 为成 员 变 量\n",
      "的 定 义 顺 序 。\n",
      "3. 如果开发者定 义 了 aboutToAppear， 则 执 行 build 方法之前 执 行 该 方法 。\n",
      "4. 在首次 渲 染 的 时 候 ， 执 行 build 方法 渲 染 系 统 组 件 ， 如果子 组 件 为自定 义 组 件 ， 则 创建 自定 义 组 件 的 实 例 。 在首次 渲 染 的 过 程\n",
      "中， 框 架 会 记 录 状 态 变 量 和 组 件 的 映 射 关系 ， 当 状 态 变 量 改变 时 ， 驱 动其相关 的 组 件 刷 新。\n",
      "5. 如果开发者定 义 了 onDidBuild， 则 执 行 build 方法之后 执 行 该 方法 。\n",
      "自定 义 组 件重 新 渲 染\n",
      "当 触 发 事件 （ 比 如 点 击 ） 改变 状 态 变 量 时 ， 或 者 LocalStorage  /  AppStorage中的 属 性更 改 ， 并导 致 绑 定 的 状 态 变 量 更 改 其 值 时 ：\n",
      "1. 框 架 观 察 到 变 化 ， 启 动 重 新 渲 染 。\n",
      "2. 根 据 框 架 记 录 的 状 态 变 量 和 组 件 的 映 射 关系 ， 仅 刷 新 发生 变 化 的 状 态 变 量 所关联 的 组 件 ， 实现最小化更 新。\n",
      "自定 义 组 件 的 删 除\n",
      "例 如 if 组 件 的 分 支 改变 或 ForEach 循 环 渲 染 中 数 组 的 个数 改变 ， 组 件将被 移 除 ：\n",
      "1. 在 删 除组 件 之前 ， 将 调 用其 aboutToDisappear 生 命 周 期 函 数 ， 标记 着该 节 点 将 要 被 销 毁 。ArkUI的 节 点 删 除 机制是 ： 后 端 节 点\n",
      "直 接 从 组 件 树 上 摘 下 ， 后 端 节 点 被 销 毁 ， 对前 端 节 点 解 引 用 ， 前 端 节 点 已 经 没 有 引 用时 ， 将被 Ark 虚拟 机 垃圾 回收 。\n",
      "2. 自定 义 组 件 和 它 的 变 量将被 删 除 ， 如果 组 件 有 同 步 的 变 量 （如@ Link、@ Prop、@ StorageLink） ， 将从同 步 源上 取消 注 册 。\n",
      "不 建议 在生 命 周 期 aboutToDisappear中 使 用 async  await。 如果在 此 生 命 周 期 中 使 用 异 步 操 作（如  Promise  或 回 调 方法） ， 自定 义\n",
      "组 件将被保 留 在 Promise的 闭 包 中， 直 到回 调 方法 执 行 完 毕 ， 这会 阻 止 自定 义 组 件 的 垃圾 回收 。\n",
      "自定 义 组 件 嵌 套 使 用与 示 例\n",
      "通过以下 示 例 ， 来 详 细 说明自定 义 组 件 在 嵌 套 使 用时 ， 自定 义 组 件 生 命 周 期 的 调 用时 序 ：\n",
      "说明\n",
      "页面生 命 周 期及 其相关内 容 参考页面 路由。\n",
      "// Index.ets\n",
      "@Entry\n",
      "@Component\n",
      "struct Parent {\n",
      "  @State showChild: boolean = true;\n",
      "  @State btnColor: string = '#FF007DFF';\n",
      "  // 组 件 生 命 周 期\n",
      "  aboutToAppear() {\n",
      "    console.info('Parent aboutToAppear');\n",
      "  }\n",
      "  // 组 件 生 命 周 期\n",
      "  onDidBuild() {\n",
      "    console.info('Parent onDidBuild');\n",
      "  }\n",
      "  // 组 件 生 命 周 期\n",
      "  aboutToDisappear() {\n",
      "    console.info('Parent aboutToDisappear');\n",
      "  }\n",
      "本文 导读\n",
      "自定 义 组 件 的 创建 和 渲 染 流程\n",
      "自定 义 组 件重 新 渲 染\n",
      "自定 义 组 件 的 删 除\n",
      "自定 义 组 件 嵌 套 使 用与 示 例\n",
      "指 南 应 用 框 架 ArkUI （方 舟 UI 框 架 ） UI 开发  (ArkTS 声 明式开发 范 式 ) 学 习 UI 范 式 基 本 语 法 自定 义 组 件 自定 义 组 件 生 命 周 期\n",
      "自定 义 组 件 生 命 周 期\n",
      "更 新 时间 :  2025-09-30  05:59\n",
      "H a r m o n y O S 版本说明 指 南 API 参考 最 佳 实 践 FAQ 变 更 预 告\n",
      "搜索 文 档 管 理 中 心探 索 设计 开发 分发 推广与 变 现 生 态 合作 支持\n",
      "A p p 简 体 中 文\n"
     ]
    }
   ],
   "source": [
    "print(docs[0].page_content)"
   ]
  },
  {
   "cell_type": "code",
   "execution_count": 39,
   "id": "eb6da288",
   "metadata": {},
   "outputs": [
    {
     "name": "stdout",
     "output_type": "stream",
     "text": [
      "RAG....\n"
     ]
    }
   ],
   "source": [
    "# Retrieve and generate using the relevant snippets of the blog.\n",
    "retriever = vectorstore.as_retriever()\n",
    "prompt = hub.pull(\"rlm/rag-prompt\")\n",
    "print(\"RAG....\")\n",
    "llm = ChatOpenAI(model_name=\"gpt-4o-mini\", temperature=0)"
   ]
  },
  {
   "cell_type": "code",
   "execution_count": 40,
   "id": "56c7709d",
   "metadata": {},
   "outputs": [],
   "source": [
    "def format_docs(docs):\n",
    "    return \"\\n\\n\".join(doc.page_content for doc in docs)\n",
    " \n",
    " \n",
    "rag_chain = (\n",
    "    {\"context\": retriever | format_docs, \"question\": RunnablePassthrough()}\n",
    "    | prompt\n",
    "    | llm\n",
    "    | StrOutputParser()\n",
    ")"
   ]
  },
  {
   "cell_type": "code",
   "execution_count": 41,
   "id": "049bfb12",
   "metadata": {},
   "outputs": [
    {
     "data": {
      "text/plain": [
       "'ArkUI自定义组件的生命周期包括以下几个关键阶段：首先是`aboutToAppear`，在组件创建后但在执行`build`函数之前调用；接着是`onDidBuild`，在组件首次渲染完成后调用；最后是`aboutToDisappear`，在组件销毁之前调用。开发者应注意在这些生命周期函数中不修改状态变量，以避免不稳定的UI表现。'"
      ]
     },
     "execution_count": 41,
     "metadata": {},
     "output_type": "execute_result"
    }
   ],
   "source": [
    "rag_chain.invoke(\"告诉我arkUI自定义组件的生命周期\")"
   ]
  }
 ],
 "metadata": {
  "kernelspec": {
   "display_name": "CreatPPT",
   "language": "python",
   "name": "python3"
  },
  "language_info": {
   "codemirror_mode": {
    "name": "ipython",
    "version": 3
   },
   "file_extension": ".py",
   "mimetype": "text/x-python",
   "name": "python",
   "nbconvert_exporter": "python",
   "pygments_lexer": "ipython3",
   "version": "3.11.13"
  }
 },
 "nbformat": 4,
 "nbformat_minor": 5
}
